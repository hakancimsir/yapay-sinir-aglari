{
  "nbformat": 4,
  "nbformat_minor": 0,
  "metadata": {
    "colab": {
      "provenance": []
    },
    "kernelspec": {
      "name": "python3",
      "display_name": "Python 3"
    },
    "language_info": {
      "name": "python"
    }
  },
  "cells": [
    {
      "cell_type": "code",
      "execution_count": null,
      "metadata": {
        "colab": {
          "base_uri": "https://localhost:8080/"
        },
        "id": "QltoP2Vy1T-c",
        "outputId": "5679009f-fa09-494d-81f4-63bbdb62d7cf"
      },
      "outputs": [
        {
          "output_type": "stream",
          "name": "stdout",
          "text": [
            "tensor([[0.4892],\n",
            "        [0.5566]], grad_fn=<SigmoidBackward0>)\n"
          ]
        }
      ],
      "source": [
        "import torch\n",
        "import math\n",
        "\n",
        "# Rastgele sayi uretmek icin seed degerini ayarladik\n",
        "torch . manual_seed (1)\n",
        "\n",
        "# input verilerini tensore donusturduk\n",
        "X = torch . tensor ([[1, 2, 3], [4, 5, 6]], dtype = torch . float )\n",
        "\n",
        "# parametreleri tanimladik\n",
        "input_size = X. shape [1]\n",
        "hidden_size = 50\n",
        "output_size = 1\n",
        "\n",
        "# Agi tanimladik\n",
        "model = torch .nn. Sequential (\n",
        "torch .nn. Linear ( input_size , hidden_size ),\n",
        "torch .nn. Tanh () ,\n",
        "torch .nn. Linear ( hidden_size , output_size ),\n",
        "torch .nn. Sigmoid ()\n",
        ")\n",
        "# Agin ciktisini hesapladik\n",
        "output = model (X)\n",
        "print ( output )"
      ]
    },
    {
      "cell_type": "code",
      "source": [
        "import torch\n",
        "import math\n",
        "\n",
        "# Rastgele sayi uretmek icin seed degerini ayarladik\n",
        "torch . manual_seed (190401084)\n",
        "\n",
        "# input verilerini tensore donusturduk\n",
        "X = torch . tensor ([[1, 2, 3], [4, 5, 6]], dtype = torch . float )\n",
        "\n",
        "# parametreleri tanimladik\n",
        "input_size = X. shape [1]\n",
        "hidden_size = 50\n",
        "output_size = 1\n",
        "\n",
        "# Agi tanimladik\n",
        "model = torch .nn. Sequential (\n",
        "torch .nn. Linear ( input_size , hidden_size ),\n",
        "torch .nn. Tanh () ,\n",
        "torch .nn. Linear ( hidden_size , output_size ),\n",
        "torch .nn. Sigmoid ()\n",
        ")\n",
        "# Agin ciktisini hesapladik\n",
        "output = model (X)\n",
        "print ( output )"
      ],
      "metadata": {
        "colab": {
          "base_uri": "https://localhost:8080/"
        },
        "id": "n_C-hdwd1269",
        "outputId": "c0cfa882-f8e4-407e-d49a-dc0e60983cb6"
      },
      "execution_count": null,
      "outputs": [
        {
          "output_type": "stream",
          "name": "stdout",
          "text": [
            "tensor([[0.5294],\n",
            "        [0.4958]], grad_fn=<SigmoidBackward0>)\n"
          ]
        }
      ]
    },
    {
      "cell_type": "code",
      "source": [],
      "metadata": {
        "id": "WEtSh7zEUX8P"
      },
      "execution_count": null,
      "outputs": []
    }
  ]
}